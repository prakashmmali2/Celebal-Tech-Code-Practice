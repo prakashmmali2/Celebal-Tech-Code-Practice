{
 "cells": [
  {
   "cell_type": "code",
   "execution_count": 1,
   "id": "d4819a3a-3780-4475-8520-054709d7ea79",
   "metadata": {},
   "outputs": [],
   "source": [
    "import openai\n",
    "\n",
    "# Set your OpenAI API key\n",
    "openai.api_key = \"https://api.sambanova.ai/v1\""
   ]
  },
  {
   "cell_type": "code",
   "execution_count": 2,
   "id": "44ca407c-b162-47d0-89ae-79913c6827c8",
   "metadata": {},
   "outputs": [],
   "source": [
    "# Hardcoded knowledge base (for demonstration purposes)\n",
    "knowledge_base = {\n",
    "    \"What is Python?\": \"Python is a high-level, interpreted programming language known for its easy syntax and readability.\",\n",
    "    \"What is machine learning?\": \"Machine learning is a subset of artificial intelligence that involves the use of algorithms to allow computers to learn from data.\",\n",
    "    \"What is a chatbot?\": \"A chatbot is a software application that simulates human conversation through voice commands or text chats.\",\n",
    "}"
   ]
  },
  {
   "cell_type": "code",
   "execution_count": 6,
   "id": "78254c7e-d152-411e-867d-d33a3ef93be7",
   "metadata": {},
   "outputs": [],
   "source": [
    "def generate_response(query):\n",
    "    # Check if query exists in the hardcoded knowledge base\n",
    "    if query in knowledge_base:\n",
    "        answer = knowledge_base[query]\n",
    "    else:\n",
    "        answer = \"I'm sorry, I don't have an answer for that.\"\n",
    "\n",
    "    return answer"
   ]
  },
  {
   "cell_type": "code",
   "execution_count": null,
   "id": "e8a2d999-48e0-4920-9733-f41dd0d3c041",
   "metadata": {},
   "outputs": [
    {
     "name": "stdin",
     "output_type": "stream",
     "text": [
      "You:  What is Python?\n"
     ]
    },
    {
     "name": "stdout",
     "output_type": "stream",
     "text": [
      "Bot: Python is a high-level, interpreted programming language known for its easy syntax and readability.\n"
     ]
    },
    {
     "name": "stdin",
     "output_type": "stream",
     "text": [
      "You:  What is machine learning?\n"
     ]
    },
    {
     "name": "stdout",
     "output_type": "stream",
     "text": [
      "Bot: Machine learning is a subset of artificial intelligence that involves the use of algorithms to allow computers to learn from data.\n"
     ]
    },
    {
     "name": "stdin",
     "output_type": "stream",
     "text": [
      "You:  What is a chatbot?\n"
     ]
    },
    {
     "name": "stdout",
     "output_type": "stream",
     "text": [
      "Bot: A chatbot is a software application that simulates human conversation through voice commands or text chats.\n"
     ]
    },
    {
     "name": "stdin",
     "output_type": "stream",
     "text": [
      "You:  India is Country?\n"
     ]
    },
    {
     "name": "stdout",
     "output_type": "stream",
     "text": [
      "Bot: I'm sorry, I don't have an answer for that.\n"
     ]
    },
    {
     "name": "stdin",
     "output_type": "stream",
     "text": [
      "You:  PM\n"
     ]
    },
    {
     "name": "stdout",
     "output_type": "stream",
     "text": [
      "Bot: I'm sorry, I don't have an answer for that.\n"
     ]
    }
   ],
   "source": [
    "if __name__ == \"__main__\":\n",
    "    while True:\n",
    "        user_query = input(\"You: \")\n",
    "        if user_query.lower() in [\"exit\", \"quit\"]:\n",
    "            break\n",
    "        response = generate_response(user_query)\n",
    "        print(\"Bot:\", response)\n"
   ]
  }
 ],
 "metadata": {
  "kernelspec": {
   "display_name": "Python 3 (ipykernel)",
   "language": "python",
   "name": "python3"
  },
  "language_info": {
   "codemirror_mode": {
    "name": "ipython",
    "version": 3
   },
   "file_extension": ".py",
   "mimetype": "text/x-python",
   "name": "python",
   "nbconvert_exporter": "python",
   "pygments_lexer": "ipython3",
   "version": "3.12.4"
  }
 },
 "nbformat": 4,
 "nbformat_minor": 5
}
